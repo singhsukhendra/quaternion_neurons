{
  "nbformat": 4,
  "nbformat_minor": 0,
  "metadata": {
    "colab": {
      "provenance": [],
      "authorship_tag": "ABX9TyPEbwDMpNN0FXhtT0Nr8ZEZ",
      "include_colab_link": true
    },
    "kernelspec": {
      "name": "python3",
      "display_name": "Python 3"
    },
    "language_info": {
      "name": "python"
    }
  },
  "cells": [
    {
      "cell_type": "markdown",
      "metadata": {
        "id": "view-in-github",
        "colab_type": "text"
      },
      "source": [
        "<a href=\"https://colab.research.google.com/github/vfrantc/quaternion_neurons/blob/main/4_parity_problem.ipynb\" target=\"_parent\"><img src=\"https://colab.research.google.com/assets/colab-badge.svg\" alt=\"Open In Colab\"/></a>"
      ]
    },
    {
      "cell_type": "code",
      "source": [
        "!pip uninstall scikit-learn -y\n",
        "!pip install -U scikit-learn\n",
        "!pip install git+https://github.com/TParcollet/Quaternion-Neural-Networks.git"
      ],
      "metadata": {
        "colab": {
          "base_uri": "https://localhost:8080/"
        },
        "id": "ue4mcAw-Qb3F",
        "outputId": "efc03229-9c31-44cd-ac65-c2d6a1b4ebae"
      },
      "execution_count": null,
      "outputs": [
        {
          "output_type": "stream",
          "name": "stdout",
          "text": [
            "Found existing installation: scikit-learn 1.0.2\n",
            "Uninstalling scikit-learn-1.0.2:\n",
            "  Successfully uninstalled scikit-learn-1.0.2\n",
            "Looking in indexes: https://pypi.org/simple, https://us-python.pkg.dev/colab-wheels/public/simple/\n",
            "Collecting scikit-learn\n",
            "  Downloading scikit_learn-1.2.1-cp38-cp38-manylinux_2_17_x86_64.manylinux2014_x86_64.whl (9.8 MB)\n",
            "\u001b[2K     \u001b[90m━━━━━━━━━━━━━━━━━━━━━━━━━━━━━━━━━━━━━━━━\u001b[0m \u001b[32m9.8/9.8 MB\u001b[0m \u001b[31m15.9 MB/s\u001b[0m eta \u001b[36m0:00:00\u001b[0m\n",
            "\u001b[?25hRequirement already satisfied: scipy>=1.3.2 in /usr/local/lib/python3.8/dist-packages (from scikit-learn) (1.7.3)\n",
            "Requirement already satisfied: threadpoolctl>=2.0.0 in /usr/local/lib/python3.8/dist-packages (from scikit-learn) (3.1.0)\n",
            "Requirement already satisfied: numpy>=1.17.3 in /usr/local/lib/python3.8/dist-packages (from scikit-learn) (1.21.6)\n",
            "Requirement already satisfied: joblib>=1.1.1 in /usr/local/lib/python3.8/dist-packages (from scikit-learn) (1.2.0)\n",
            "Installing collected packages: scikit-learn\n",
            "Successfully installed scikit-learn-1.2.1\n",
            "Looking in indexes: https://pypi.org/simple, https://us-python.pkg.dev/colab-wheels/public/simple/\n",
            "Collecting git+https://github.com/TParcollet/Quaternion-Neural-Networks.git\n",
            "  Cloning https://github.com/TParcollet/Quaternion-Neural-Networks.git to /tmp/pip-req-build-r_ilporg\n",
            "  Running command git clone --filter=blob:none --quiet https://github.com/TParcollet/Quaternion-Neural-Networks.git /tmp/pip-req-build-r_ilporg\n",
            "  Resolved https://github.com/TParcollet/Quaternion-Neural-Networks.git to commit f8de5d5e5a3f9c694a0d62cffc64ec4ccdffd1bc\n",
            "  Preparing metadata (setup.py) ... \u001b[?25l\u001b[?25hdone\n",
            "Building wheels for collected packages: Pytorch-QNN\n",
            "  Building wheel for Pytorch-QNN (setup.py) ... \u001b[?25l\u001b[?25hdone\n",
            "  Created wheel for Pytorch-QNN: filename=Pytorch_QNN-1-py3-none-any.whl size=21516 sha256=f38e63461277aa545d5e9fce0be17d2039237e3df34883a24bcef36ae32bee42\n",
            "  Stored in directory: /tmp/pip-ephem-wheel-cache-hpingklp/wheels/55/78/10/235c627601beea89722aa1507e19d17aae118511b3de0799b6\n",
            "Successfully built Pytorch-QNN\n",
            "Installing collected packages: Pytorch-QNN\n",
            "Successfully installed Pytorch-QNN-1\n"
          ]
        }
      ]
    },
    {
      "cell_type": "code",
      "source": [
        "# https://www2.rikkyo.ac.jp/web/tnitta/NIP-LR2005.pdf"
      ],
      "metadata": {
        "id": "PUv0fUmkj-f8"
      },
      "execution_count": null,
      "outputs": []
    },
    {
      "cell_type": "code",
      "execution_count": null,
      "metadata": {
        "id": "XShDNzGFPtZu"
      },
      "outputs": [],
      "source": [
        "import itertools\n",
        "import numpy as np\n",
        "\n",
        "import torch\n",
        "import torch.optim as optim\n",
        "import torch.nn as nn\n",
        "import torch.nn.functional as F\n",
        "from core_qnn.quaternion_layers import QuaternionLinear\n",
        "import matplotlib.pyplot as plt"
      ]
    },
    {
      "cell_type": "code",
      "source": [
        "\n",
        "# Code A Solution to the 4-bit Parity Problem with a Single Quaternary Neuron using the encoding below\n",
        "import torch\n",
        "import torch.optim as optim\n",
        "import torch.nn as nn\n",
        "import torch.nn.functional as F\n",
        "from core_qnn.quaternion_layers import QuaternionLinear # Use this neuron\n",
        "\n",
        "# x1 x2 x3 x4\n",
        "x = [[-1, -1, -1, -1],\n",
        "     [-1, -1, -1, 1],\n",
        "     [-1, -1 , 1, -1],\n",
        "     [-1, 1, -1, -1],\n",
        "     [1, -1, -1, -1],\n",
        "     [-1, -1, 1, 1],\n",
        "     [-1, 1, -1, 1],\n",
        "     [-1, 1, 1, -1],\n",
        "     [1, -1, -1, 1],\n",
        "     [1, -1, 1, -1],\n",
        "     [1, 1, -1, -1],\n",
        "     [-1, 1, 1, 1],\n",
        "     [1, -1, 1, 1],\n",
        "     [1, 1, -1, 1],\n",
        "     [1, 1, 1, -1],\n",
        "     [1, 1, 1, 1]]\n",
        "\n",
        "#     r  i  j  k\n",
        "x = [[0, 0, 0, 0],  # 0\n",
        "     [0, 0, 0, 1],  # k \n",
        "     [0, 0 , 1, 0], # j\n",
        "     [0, 1, 0, 0],  # i\n",
        "     [1, 0, 0, 0],  # 1\n",
        "     [0, 0, 1, 1],  # j + k\n",
        "     [0, 1, 0, 1],  # i + k\n",
        "     [0, 1, 1, 0],  # i + j\n",
        "     [1, 0, 0, 1],  # 1 + k\n",
        "     [1, 0, 1, 0],  # 1 + j\n",
        "     [1, 1, 0, 0],  # 1 + i\n",
        "     [0, 1, 1, 1],  # i + j + k\n",
        "     [1, 0, 1, 1],  # 1 + j + k\n",
        "     [1, 1, 0, 1],  # 1 + i + k\n",
        "     [1, 1, 1, 0],  # 1 + i + j\n",
        "     [1, 1, 1, 1]]  # 1 + i + j + k\n",
        "\n",
        "# Use this network\n",
        "class QNet(nn.Module):\n",
        "    def __init__(self):\n",
        "        super(QNet, self).__init__()\n",
        "        self.fc1 = QuaternionLinear(4, 4)\n",
        "\n",
        "    def forward(self, x):\n",
        "        x = self.fc1(x)\n",
        "        x = F.sigmoid(x)\n",
        "        return x\n",
        "\n",
        "# Here implement training and evaluation"
      ],
      "metadata": {
        "id": "tZA-IqTMSdJf"
      },
      "execution_count": null,
      "outputs": []
    },
    {
      "cell_type": "code",
      "source": [
        "x = np.asarray(list(itertools.product([0, 1], repeat=4)))\n",
        "y = []\n"
      ],
      "metadata": {
        "id": "_o9v6t1TSTmX"
      },
      "execution_count": null,
      "outputs": []
    },
    {
      "cell_type": "code",
      "source": [
        "class QNet(nn.Module):\n",
        "    def __init__(self):\n",
        "        super(QNet, self).__init__()\n",
        "        self.fc1 = QuaternionLinear(4, 4)\n",
        "\n",
        "    def forward(self, x):\n",
        "        x = self.fc1(x)\n",
        "        x = F.sigmoid(x)\n",
        "        return x"
      ],
      "metadata": {
        "id": "SG1gBd0oSOnu"
      },
      "execution_count": null,
      "outputs": []
    },
    {
      "cell_type": "code",
      "source": [
        "class QNet(nn.Module):\n",
        "    def __init__(self):\n",
        "        super(QNet, self).__init__()\n",
        "        self.fc1 = QuaternionLinear(4, 4)\n",
        "\n",
        "    def forward(self, x):\n",
        "        x = self.fc1(x)\n",
        "        x = F.sigmoid(x)\n",
        "        return x"
      ],
      "metadata": {
        "id": "ATmfTvWPP4vd"
      },
      "execution_count": null,
      "outputs": []
    },
    {
      "cell_type": "code",
      "source": [
        "    # Initialize the network\n",
        "    model = QNet()\n",
        "\n",
        "    # Define the loss function (binary cross-entropy)\n",
        "    criterion = nn.BCELoss()\n",
        "\n",
        "    # Define the optimizer (Adam with a learning rate of 0.1)\n",
        "    optimizer = optim.Adam(model.parameters(), lr=0.1)\n",
        "\n",
        "    # Generate training data\n",
        "    x = np.asarray(list(itertools.product([0, 1], repeat=4)))\n",
        "    x_ = x.copy()\n",
        "    # y = np.asarray([np.sum(x[i]) % 2 for i in range(len(x))])\n",
        "    y = np.asarray(list(itertools.product([0, 1], repeat=4)))\n",
        "    y_ = y.copy()\n",
        "    x = torch.FloatTensor(x)\n",
        "    y = torch.FloatTensor(y)\n",
        "\n",
        "    # Train the network for 100 epochs\n",
        "    for epoch in range(100):\n",
        "        # Zero the gradients\n",
        "        optimizer.zero_grad()\n",
        "\n",
        "        # Forward pass\n",
        "        outputs = model(x)\n",
        "        loss = criterion(outputs, y)\n",
        "\n",
        "        # Backward pass and optimization\n",
        "        loss.backward()\n",
        "        optimizer.step()\n",
        "\n",
        "        # Print the loss every 10 epochs\n",
        "        if (epoch + 1) % 10 == 0:\n",
        "            print('Epoch [{}/100], Loss: {:.4f}'.format(epoch + 1, loss.item()))\n",
        "\n",
        "        # Evaluate the model on the training data\n",
        "    with torch.no_grad():\n",
        "        outputs = model(x)\n",
        "        predicted = (outputs > 0.5).float()\n",
        "        accuracy = (predicted == y).float().mean()\n",
        "        print('Accuracy on the training data: {:.2f}%'.format(accuracy.item() * 100))\n",
        "\n",
        "\n",
        "\n"
      ],
      "metadata": {
        "id": "6ykKOmfRP7fA"
      },
      "execution_count": null,
      "outputs": []
    },
    {
      "cell_type": "code",
      "source": [
        "feature_1, feature_2, feature_3, feature_4 = np.meshgrid(\n",
        "    np.linspace(-1, 1, 100),\n",
        "    np.linspace(-1, 1, 100),\n",
        "    np.linspace(-1, 1, 100),\n",
        "    np.linspace(-1, 1, 100))\n",
        "grid = np.stack([feature_1, feature_2, feature_3, feature_4]).T\n",
        "grid = torch.FloatTensor(grid)\n",
        "# Make predictions on the test data\n",
        "with torch.no_grad():\n",
        "    outputs = model(grid)\n",
        "    predicted = (outputs > 0.5).float().numpy().flatten()\n",
        "\n",
        "y_pred = np.reshape(predicted, feature_1.shape)\n",
        "sl = 25\n",
        "display = DecisionBoundaryDisplay(xx0=feature_1[:, :, sl, sl], xx1=feature_2[:, :, sl, sl], response=y_pred[:, :, sl, sl])\n",
        "display.plot()\n",
        "display.ax_.scatter(X_scaled[:, 0], X_scaled[:, 1], c=y, edgecolor=\"black\")\n",
        "display.ax_.set_xlabel('petal length (scaled)')\n",
        "display.ax_.set_ylabel('petal width (scaled)')\n",
        "plt.show()"
      ],
      "metadata": {
        "id": "0BCr1T66QFBI"
      },
      "execution_count": null,
      "outputs": []
    }
  ]
}